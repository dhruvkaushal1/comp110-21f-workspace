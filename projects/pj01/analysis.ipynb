{
 "cells": [
  {
   "cell_type": "markdown",
   "metadata": {},
   "source": [
    "## PJ 01 Analyzing if students who have taken AP Computer Science Principles have a better understanding of the material"
   ]
  },
  {
   "cell_type": "markdown",
   "metadata": {},
   "source": [
    "## My Hypothesis is that the students who have taken AP Computer Science Principles have a better understanding of the material than students who have not taken AP Computer Science Principles."
   ]
  },
  {
   "cell_type": "code",
   "execution_count": null,
   "metadata": {},
   "outputs": [],
   "source": [
    "  %reload_ext autoreload\n",
    "  %autoreload 2"
   ]
  },
  {
   "cell_type": "markdown",
   "metadata": {},
   "source": [
    "My first step will be reading and converting the csv into a column oriented table."
   ]
  },
  {
   "cell_type": "code",
   "execution_count": null,
   "metadata": {},
   "outputs": [],
   "source": [
    "from data_utils import read_csv_rows, columnar\n",
    "\n",
    "data_rows: list[dict[str, str]] = read_csv_rows('../../data/survey.csv')\n",
    "columns: dict[str, list[str]] = columnar(data_rows)\n",
    "columns"
   ]
  },
  {
   "cell_type": "markdown",
   "metadata": {},
   "source": [
    "Next I will select the columns in the data set that have the value of if the student has taken AP Computer Science Principles and the column on their rating of their own understanding. "
   ]
  },
  {
   "cell_type": "code",
   "execution_count": null,
   "metadata": {},
   "outputs": [],
   "source": [
    "from data_utils import head, select\n",
    "\n",
    "subset: dict[str, list[str]] = select(columns, [\"AP_Principles\", \"understanding\"])\n",
    "head(subset, 5)"
   ]
  },
  {
   "cell_type": "markdown",
   "metadata": {},
   "source": [
    "Next I will write a piece of code that will create two different lists. One list will have the understanding values for students who have taken AP Computer Science Principles and the other will be the ratings of students who have not. "
   ]
  },
  {
   "cell_type": "code",
   "execution_count": 72,
   "metadata": {},
   "outputs": [
    {
     "name": "stdout",
     "output_type": "stream",
     "text": [
      "[6, 5, 6, 4, 5, 4, 5, 3, 5, 7, 5, 5, 6, 7, 7, 6, 6, 6, 7, 7, 6, 3, 5, 5, 7, 7, 6, 4, 5, 7, 5, 6, 5, 6, 5, 7, 5, 5, 6, 5, 5, 2, 5, 2, 6, 4]\n",
      "[5, 6, 5, 6, 4, 6, 7, 5, 5, 5, 3, 7, 7, 7, 7, 6, 6, 5, 6, 6, 6, 7, 4, 6, 6, 5, 7, 6, 5, 6, 6, 7, 5, 6, 3, 5, 6, 7, 5, 5, 7, 5, 6, 7, 7, 6, 6, 5, 7, 4, 7, 5, 5, 6, 7, 5, 6, 7, 4, 7, 4, 7, 5, 5, 6, 4, 3, 5, 5, 5, 5, 5, 6, 7, 6, 5, 5, 7, 3, 3, 7, 3, 3, 4, 4, 4, 6, 6, 5, 6, 4, 4, 4, 2, 6, 4, 2, 5, 5, 5, 5, 5, 6, 7, 4, 4, 2, 3, 4, 6, 5, 5, 4, 6, 4, 6, 6, 4, 6, 6, 2, 3, 3, 5]\n"
     ]
    }
   ],
   "source": [
    "taken_csp: list[int] = []\n",
    "not_taken_csp: list[int] =[]\n",
    "i: int = 0\n",
    "for key in subset['AP_Principles']:\n",
    "    if key == \"Yes\":\n",
    "        taken_csp.append(int(subset['understanding'][i]))\n",
    "    elif key == \"No\":\n",
    "        not_taken_csp.append(int(subset['understanding'][i]))\n",
    "    i+=1\n",
    "print(taken_csp)\n",
    "print(not_taken_csp)\n"
   ]
  },
  {
   "cell_type": "markdown",
   "metadata": {},
   "source": [
    "Now I will count the frequency of each number in order to graph this. "
   ]
  },
  {
   "cell_type": "code",
   "execution_count": null,
   "metadata": {},
   "outputs": [],
   "source": [
    "from data_utils import count\n",
    "\n",
    "taken_csp_frequency = count(taken_csp)\n",
    "not_taken_csp_frequency = count(not_taken_csp)\n",
    "print(taken_csp_frequency)\n",
    "not_taken_csp_frequency\n"
   ]
  },
  {
   "cell_type": "markdown",
   "metadata": {},
   "source": [
    "This will be the first visual that I will use to show the distribution in the rating for the people who have taken AP Computer Science Principles."
   ]
  },
  {
   "cell_type": "code",
   "execution_count": 68,
   "metadata": {},
   "outputs": [
    {
     "data": {
      "image/png": "[encoded data removed]",
      "text/plain": [
       "<Figure size 432x288 with 1 Axes>"
      ]
     },
     "metadata": {
      "needs_background": "light"
     },
     "output_type": "display_data"
    }
   ],
   "source": [
    "import matplotlib.pyplot as plt\n",
    "import numpy as np\n",
    "import matplotlib.pyplot as plt\n",
    "\n",
    "labels = ['2', '3', '4', '5', '6', '7']\n",
    "y_pos = [0, 1, 2, 3, 4, 5]  # the order the labels will be arranged in bar chart\n",
    "\n",
    "vals = [taken_csp_frequency[2], taken_csp_frequency[3], taken_csp_frequency[4], taken_csp_frequency[5], taken_csp_frequency[6], taken_csp_frequency[7]]\n",
    "\n",
    "plt.bar(y_pos, vals, align='center', alpha=0.5)\n",
    "plt.xticks(y_pos, labels)\n",
    "plt.ylabel('Frequency')\n",
    "plt.title('Evaluation of Course Understanding from Past AP CSP Students')\n",
    "\n",
    "plt.show()"
   ]
  },
  {
   "cell_type": "markdown",
   "metadata": {},
   "source": [
    "This will be the first visual that I will use to show the distribution in the rating for  the people who have not taken AP Computer Science Principles."
   ]
  },
  {
   "cell_type": "code",
   "execution_count": 67,
   "metadata": {},
   "outputs": [
    {
     "data": {
      "image/png": "[encoded data removed]",
      "text/plain": [
       "<Figure size 432x288 with 1 Axes>"
      ]
     },
     "metadata": {
      "needs_background": "light"
     },
     "output_type": "display_data"
    }
   ],
   "source": [
    "import matplotlib.pyplot as plt\n",
    "import numpy as np\n",
    "import matplotlib.pyplot as plt\n",
    "\n",
    "labels = ['2', '3', '4', '5', '6', '7']\n",
    "y_pos = [0, 1, 2, 3, 4, 5]  # the order the labels will be arranged in bar chart\n",
    "\n",
    "vals = [not_taken_csp_frequency[2], not_taken_csp_frequency[3], not_taken_csp_frequency[4], not_taken_csp_frequency[5], not_taken_csp_frequency[6], not_taken_csp_frequency[7]]\n",
    "\n",
    "plt.bar(y_pos, vals, align='center', alpha=0.5)\n",
    "plt.xticks(y_pos, labels)\n",
    "plt.ylabel('Frequency')\n",
    "plt.title('Evaluation of Course Understanding from Students without AP CSP')\n",
    "\n",
    "plt.show()"
   ]
  },
  {
   "cell_type": "markdown",
   "metadata": {},
   "source": [
    "In order to see the students who have had mastery I will use the rating values that are equal to and greater than 5. This next function will use all of the values in the two previous lists and create a new list that includes all of the values that are greater than 5."
   ]
  },
  {
   "cell_type": "code",
   "execution_count": null,
   "metadata": {},
   "outputs": [],
   "source": [
    "def concept_understanding(input_list: list[int]) -> list[int]:\n",
    "    \"\"\"This function returns the  values that are greater than 5 in the list provided.\"\"\"\n",
    "    i: int = 2\n",
    "    understanding_list: list[int] = []\n",
    "    while i < len(input_list):\n",
    "        if (input_list[i] >= 5):\n",
    "            understanding_list.append(input_list[i])\n",
    "        i += 1\n",
    "    return understanding_list"
   ]
  },
  {
   "cell_type": "markdown",
   "metadata": {},
   "source": [
    "In this piece, I call the function over the two lists that are have the rating for each of the students who had and had not taken AP CSP."
   ]
  },
  {
   "cell_type": "code",
   "execution_count": null,
   "metadata": {},
   "outputs": [],
   "source": [
    "concept_understanding(not_taken_csp)\n",
    "concept_understanding(taken_csp)"
   ]
  },
  {
   "cell_type": "markdown",
   "metadata": {},
   "source": [
    "In order to show a comparsion, I will show the percent of students who have shown mastery by creating a new variable from dividing the amount of students who have shown mastery from the function above by the total amount of ratings that are given for each group. I will then create a visual that is a bar chart for each of these percentages. "
   ]
  },
  {
   "cell_type": "code",
   "execution_count": 71,
   "metadata": {},
   "outputs": [
    {
     "data": {
      "image/png": "[encoded data removed]",
      "text/plain": [
       "<Figure size 432x288 with 1 Axes>"
      ]
     },
     "metadata": {
      "needs_background": "light"
     },
     "output_type": "display_data"
    }
   ],
   "source": [
    "from statistics import mean\n",
    "import matplotlib.pyplot as plt\n",
    "import numpy as np\n",
    "import matplotlib.pyplot as plt\n",
    "\n",
    "labels = ['Students Who Have Taken AP CSP', 'Students Who Have Not Taken AP CSP']\n",
    "y_pos = [0, 1]  # the order the labels will be arranged in bar chart\n",
    "final_csp: float = (len(concept_understanding(taken_csp)))/(len(taken_csp))\n",
    "final_not: float = (len(concept_understanding(not_taken_csp)))/(len(not_taken_csp))\n",
    "\n",
    "vals = final_csp, final_not\n",
    "\n",
    "plt.bar(y_pos, vals, align='center', alpha=0.5)\n",
    "plt.xticks(y_pos, labels)\n",
    "plt.ylabel('Frequency of Understanding')\n",
    "plt.title('Percentage of Understanding in students with or without AP CSP')\n",
    "\n",
    "plt.show()"
   ]
  },
  {
   "cell_type": "markdown",
   "metadata": {},
   "source": [
    "## Conclusion\n",
    "In my analysis I looked at the frequency of students and their rating of understanding within the Comp 110 class based on if they had previously taken the AP Computer Science Principles class. To begin, I wanted to find the rating that each student gave. I complied these into seperate lists based on the two groups of have taken the class and have not. Next I found the frequency of each of the ratings. However, I found that there was a greater frequency in the group that had not taken AP CSP becuase of the fact that there was a much larger amount of students who had not taken AP CSP. To develop a comparable statistic, I decided that the percentage of mastery over the total amount of students would be a better representation. To do this, I made a sepearte list that showed values of mastery. For the purpsoes of this analysis, I used values that were greater than or equal to 5. I then divided this amount by the amount of students who had answered. I found that the students who had taken AP CSP had a greater percent mastery than those students who had not. This did support my hyptohesis that the students who have taken AP Computer Science Principles have a better understanding of the material than students who have not taken AP Computer Science Principles. Although, the ratings were close ranging from close to 79% for studetns who have taken AP CSP to close to 71% for students who have not. This could come from a better previous understanding of the content. "
   ]
  }
 ],
 "metadata": {
  "interpreter": {
   "hash": "aee8b7b246df8f9039afb4144a1f6fd8d2ca17a180786b69acc140d282b71a49"
  },
  "kernelspec": {
   "display_name": "Python 3.9.6 64-bit",
   "language": "python",
   "name": "python3"
  },
  "language_info": {
   "codemirror_mode": {
    "name": "ipython",
    "version": 3
   },
   "file_extension": ".py",
   "mimetype": "text/x-python",
   "name": "python",
   "nbconvert_exporter": "python",
   "pygments_lexer": "ipython3",
   "version": "3.9.6"
  },
  "orig_nbformat": 4
 },
 "nbformat": 4,
 "nbformat_minor": 2
}
